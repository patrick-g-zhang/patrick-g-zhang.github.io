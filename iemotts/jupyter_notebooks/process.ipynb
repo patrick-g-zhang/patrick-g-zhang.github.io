{
 "cells": [
  {
   "cell_type": "code",
   "execution_count": 1,
   "id": "57e029d8",
   "metadata": {},
   "outputs": [],
   "source": [
    "from pandas import *  \n",
    "import numpy as np\n",
    "import re\n",
    "\n",
    "import numpy as np\n",
    "from scipy import stats\n",
    "import scipy\n",
    "\n",
    "from functools import reduce\n"
   ]
  },
  {
   "cell_type": "code",
   "execution_count": 15,
   "id": "ed2bc51d",
   "metadata": {},
   "outputs": [],
   "source": [
    "# df_emo_all = read_excel(\"./音色主观测试1-March8/音色主观测试1-March8-交付.xlsx\")\n",
    "# df_emo_all = read_excel(\"./情感主观测试1-March8/情感主观测试1-March8-交付.xlsx\")\n",
    "\n",
    "# df_emo_ref_all = read_excel(\"../../25Feb/情感主观测试1-Feb25/情感主观测试1-Feb25-交付.xlsx\")\n",
    "# df_spk_all = read_excel(\"./speaker_smilarity_April19/output.csv\")\n",
    "df_emo_all = read_csv(\"./speaker_smilarity_April19/output.csv\")\n",
    "\n",
    "\n",
    "\n",
    "# df_spk_all = read_excel(\"./音色主观测试1-March14/音色主观测试1-March14-交付.xlsx\")\n",
    "# df_emo_all = read_excel(\"./情感主观测试1-March14/情感主观测试1-March14-交付.xlsx\")\n",
    "\n",
    "# df_emo_all = read_excel(\"./音色主观测试2-March14/音色主观测试2-March14-交付.xlsx\")\n",
    "\n",
    "\n",
    "# speaker TGE0140F and TGE0143M\n",
    "# df_emo_all = read_excel(\"./音色主观测试3-March14/音色主观测试3-March14-交付.xlsx\")\n",
    "# df_emo_all = read_excel(\"./音色主观测试4-March14/音色主观测试4-March14-交付.xlsx\")\n",
    "# df_emo_all = read_excel(\"./情感主观测试4-March14/情感主观测试4-March14-交付.xlsx\")\n",
    "# df_emo_all = read_excel(\"./情感主观测试3-March14/情感主观测试3-March14-交付.xlsx\")\n",
    "\n",
    "\n",
    "# df_all = read_excel(\"../音色主观测试1-Feb25/音色主观测试1-Feb25-交付.xlsx\")\n",
    "# df_all = read_excel(\"./音质主观测试1-Mar2-交付.xlsx\")\n",
    "\n",
    "# df_all = read_excel(\"../音质主观测试1-Feb18/音质主观测试1-Feb18-交付.xlsx\")"
   ]
  },
  {
   "cell_type": "code",
   "execution_count": 16,
   "id": "48ce8c14",
   "metadata": {},
   "outputs": [],
   "source": [
    "emo_list = ['happy', 'sad', 'poor', 'fear', 'angry',  'amazed' , 'disgusted',   ]\n",
    "exp_list = ['mix2_gvq_spkadv_105', 'mix2_gvq_spkadv_105_nopros']"
   ]
  },
  {
   "cell_type": "code",
   "execution_count": 17,
   "id": "4ce96c2d",
   "metadata": {},
   "outputs": [],
   "source": [
    "def get_emotion(x):\n",
    "    for emo in emo_list:\n",
    "        if emo in x:\n",
    "            return emo\n",
    "\n",
    "def get_exp(x):\n",
    "    res_mix = re.search(r\"mix.*?%2Ft\", x)\n",
    "    if res_mix is None:\n",
    "        return 'noise'\n",
    "    return res_mix[0][:-4]\n",
    "\n",
    "def get_fn(x):\n",
    "    res_mix = re.search(r\"TGEmotionalchild.*?.wav\", x)\n",
    "    if res_mix is None:\n",
    "        return 'noise'\n",
    "    return res_mix[0][:-4]"
   ]
  },
  {
   "cell_type": "code",
   "execution_count": 18,
   "id": "13263fa6",
   "metadata": {},
   "outputs": [],
   "source": [
    "df_emo_all[\"score\"] = df_emo_all[\"out_opt\"].map(lambda x:int(x[0]))\n",
    "df_emo_all[\"emo\"] = df_emo_all[\"link\"].map(get_emotion)\n",
    "df_emo_all['exp'] = df_emo_all['link'].map(get_exp)\n",
    "df_emo_all['fn'] = df_emo_all['link'].map(get_fn)\n",
    "\n",
    "# df_spk_all[\"score\"] = df_spk_all[\"out\"].map(lambda x:int(x[0]))\n",
    "# df_spk_all[\"emo\"] = df_spk_all[\"link\"].map(get_emotion)\n",
    "# df_spk_all[\"spk\"] = df_spk_all[\"link\"].map(get_spk)\n",
    "# df_spk_all['exp'] = df_spk_all['link'].map(get_exp)\n",
    "# df_spk_all['fn'] = df_spk_all['link'].map(get_fn)\n"
   ]
  },
  {
   "cell_type": "code",
   "execution_count": 19,
   "id": "e342da25",
   "metadata": {},
   "outputs": [
    {
     "name": "stdout",
     "output_type": "stream",
     "text": [
      "mix2_gvq_spkadv_105\n",
      "emo happy mean 4.27 \\pm 0.08\n",
      "emo sad mean 4.28 \\pm 0.08\n",
      "emo poor mean 4.25 \\pm 0.08\n",
      "emo fear mean 4.25 \\pm 0.08\n",
      "emo angry mean 4.28 \\pm 0.08\n",
      "emo amazed mean 4.22 \\pm 0.08\n",
      "emo disgusted mean 4.27 \\pm 0.07\n",
      "mean 4.26 \\pm 0.03\n",
      "mix2_gvq_spkadv_105_nopros\n",
      "emo happy mean 4.16 \\pm 0.08\n",
      "emo sad mean 4.08 \\pm 0.09\n",
      "emo poor mean 4.03 \\pm 0.08\n",
      "emo fear mean 4.07 \\pm 0.08\n",
      "emo angry mean 4.05 \\pm 0.09\n",
      "emo amazed mean 4.12 \\pm 0.08\n",
      "emo disgusted mean 4.09 \\pm 0.08\n",
      "mean 4.09 \\pm 0.03\n"
     ]
    }
   ],
   "source": [
    "for num, exp_name in enumerate(exp_list):\n",
    "    print(exp_name)\n",
    "    df_emo = df_emo_all[df_emo_all['exp'] == exp_name]\n",
    "    for emo in emo_list:\n",
    "        s_df = df_emo[df_emo['emo'] == emo]['score']\n",
    "        m = np.mean(s_df)\n",
    "        se = scipy.stats.sem(s_df)\n",
    "        print(f\"emo {emo} mean {round(m, 2) } \\pm {round(scipy.stats.sem(s_df * scipy.stats.t.ppf((1 + 0.95) / 2., len(s_df)-1))/1.8, 2)}\")\n",
    "\n",
    "\n",
    "    s_df = df_emo['score']\n",
    "\n",
    "    m = np.mean(s_df) \n",
    "    se = scipy.stats.sem(s_df)\n",
    "\n",
    "    print(f\"mean {round(m, 2)} \\pm {round(scipy.stats.sem(s_df * scipy.stats.t.ppf((1 + 0.95) / 2., len(s_df)-1))/1.8, 2)}\")\n"
   ]
  },
  {
   "cell_type": "code",
   "execution_count": null,
   "id": "4cd6d010",
   "metadata": {},
   "outputs": [],
   "source": [
    "for emo in emo_list:\n",
    "    new_df = df[df['emo'] == emo]\n",
    "    new_df = new_df[new_df[\"score\"] == 1]\n",
    "    print(len(new_df.index.values))\n",
    "    del_index = new_df.index.values\n",
    "    df = df.drop(del_index)"
   ]
  },
  {
   "cell_type": "code",
   "execution_count": null,
   "id": "79e0928b",
   "metadata": {},
   "outputs": [],
   "source": []
  }
 ],
 "metadata": {
  "kernelspec": {
   "display_name": "Python 3 (ipykernel)",
   "language": "python",
   "name": "python3"
  },
  "language_info": {
   "codemirror_mode": {
    "name": "ipython",
    "version": 3
   },
   "file_extension": ".py",
   "mimetype": "text/x-python",
   "name": "python",
   "nbconvert_exporter": "python",
   "pygments_lexer": "ipython3",
   "version": "3.8.10"
  }
 },
 "nbformat": 4,
 "nbformat_minor": 5
}
