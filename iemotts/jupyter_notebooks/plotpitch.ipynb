{
 "cells": [
  {
   "cell_type": "code",
   "execution_count": null,
   "metadata": {},
   "outputs": [],
   "source": [
    "import parselmouth\n",
    "import IPython.display as ipd\n",
    "import matplotlib.pyplot as plt\n",
    "import matplotlib\n",
    "# %matplotlib inline\n",
    "matplotlib.use('Agg')\n",
    "\n",
    "plt.rcParams['figure.figsize'] = [12, 8]\n",
    "plt.rcParams['figure.dpi'] = 100 # 200 e.g. is really fine, but slower"
   ]
  },
  {
   "cell_type": "code",
   "execution_count": null,
   "metadata": {},
   "outputs": [],
   "source": [
    "emo_info_list = [(\"tgechildemotion\", \"TGEmotionalchild_amazed_240044\"), (\"tgechildemotion\", \"TGEmotionalchild_angry_220028\"), (\"tgechildemotion\", \"TGEmotionalchild_fear_210014\"), (\"tgechildemotion\", \"TGEmotionalchild_disgusted_260030\"), (\"tgechildemotion\", \"TGEmotionalchild_happy_250072\"), (\"tgechildemotion\", \"TGEmotionalchild_poor_230105\"), ('TGEF01', 'TGEmotionalchild_sad_230150')]\n",
    "emo_list= [\"(i) amazement\", \"(ii) anger\", \"(iii) fear\", \"(iv) disgust\", \"(v) happiness\", \"(vi) poorness\", \"(vii) sadness\" ]"
   ]
  },
  {
   "cell_type": "code",
   "execution_count": null,
   "metadata": {},
   "outputs": [],
   "source": [
    "weak_dir1 = \"/mnt/gyzhang/projects/fastspeech2-master/checkpoints/mix2_gvq_spkadv_105_pspk/test_pt_s2t_mix2_generated_210000_0-0-0-0-0-0-0-0_emoinfer/wavs/\"\n",
    "high_dir1 = \"/mnt/gyzhang/projects/fastspeech2-master/checkpoints/mix2_gvq_spkadv_105_pspk/test_pt_s2t_mix2_generated_210000_1-1-1-1-1-1-1-1_emoinfer/wavs/\"\n",
    "mid_dir1 = \"/mnt/gyzhang/projects/fastspeech2-master/checkpoints/mix2_gvq_spkadv_105_pspk/test_pt_s2t_mix2_generated_210000_0.5-0.55-0.7-0.5-0.5-0.4-0.35-0.45_emoinfer/wavs\"\n",
    "# mid_dir1 = \"/mnt/gyzhang/projects/fastspeech2-master/checkpoints/mix2_gvq_spkadv_105_pspk/test_pt_s2t_mix2_generated_210000_0.4-0.4-0.4-0.4-0.4-0.4-0.4-0.4_emoinfer/wavs\"\n",
    "# mid_dir1 = \"/mnt/gyzhang/projects/fastspeech2-master/checkpoints/mix2_gvq_spkadv_105_pspk/test_pt_s2t_mix2_generated_210000_0.3-0.3-0.3-0.3-0.3-0.3-0.3-0.3_emoinfer/wavs\"\n",
    "\n",
    "# mid_dir1 = \"/mnt/gyzhang/projects/fastspeech2-master/checkpoints/mix2_gvq_spkadv_105_pspk/test_pt_s2t_mix2_generated_210000_0.5-0.5-0.6-0.5-0.4-0.5-0.35-0.5_emoinfer/wavs/\""
   ]
  },
  {
   "cell_type": "code",
   "execution_count": null,
   "metadata": {},
   "outputs": [],
   "source": [
    "high_dir2 = \"/mnt/gyzhang/projects/fastspeech2-master/checkpoints/mix2_gvq_spkadv_105_pspk_nostr/test_pt_s2t_mix2_generated_210000_1.5-1.5-1.5-1.5-1.5-1.5-1.5-1.5_emoinfer/wavs\"\n",
    "mid_dir2 = \"/mnt/gyzhang/projects/fastspeech2-master/checkpoints/mix2_gvq_spkadv_105_pspk_nostr/test_pt_s2t_mix2_generated_210000_1-1-1-1-1-1-1-1_emoinfer/wavs\"\n",
    "weak_dir2 = \"/mnt/gyzhang/projects/fastspeech2-master/checkpoints/mix2_gvq_spkadv_105_pspk_nostr/test_pt_s2t_mix2_generated_210000_0.5-0.5-0.5-0.5-0.5-0.5-0.5-0.5_emoinfer/wavs\""
   ]
  },
  {
   "cell_type": "code",
   "execution_count": null,
   "metadata": {},
   "outputs": [],
   "source": [
    "plt.rcParams['font.family'] = \"serif\"\n",
    "\n",
    "fig, big_axs = plt.subplots(constrained_layout=True, nrows=len(emo_info_list), ncols=1, figsize=(18,6*len(emo_info_list)))\n",
    "\n",
    "fig.suptitle('   ')\n",
    "\n",
    "\n",
    "for row, big_ax in enumerate(big_axs):\n",
    "    big_ax.remove()\n",
    "    \n",
    "# add subfigure per subplot\n",
    "gridspec = big_axs[0].get_subplotspec().get_gridspec()\n",
    "subfigs = [fig.add_subfigure(gs) for gs in gridspec]\n",
    "    \n",
    "\n",
    "for row_id, (spk_fn, wav_fn) in enumerate(emo_info_list):\n",
    "    \n",
    "    subfig = subfigs[row_id]\n",
    "    subfig.suptitle(emo_list[row_id],fontsize = 17)\n",
    "    axs = subfig.subplots(nrows=1, ncols=2)\n",
    "\n",
    "\n",
    "    for fidx, (weak_dir, mid_dir, high_dir) in enumerate([(weak_dir1, mid_dir1, high_dir1), (weak_dir2, mid_dir2, high_dir2)]):\n",
    "        if fidx == 0 and \"disgusted\" in wav_fn:\n",
    "            mid_dir = \"/mnt/gyzhang/projects/fastspeech2-master/checkpoints/mix2_gvq_spkadv_105_pspk/test_pt_s2t_mix2_generated_210000_0.4-0.4-0.4-0.4-0.4-0.4-0.4-0.4_emoinfer/wavs\"\n",
    "            \n",
    "        ax = axs[fidx]\n",
    "        weak_wav_file = f\"{weak_dir}/{spk_fn}/{wav_fn}_{spk_fn}_generated_e2e.wav\"\n",
    "\n",
    "        snd = parselmouth.Sound(weak_wav_file)\n",
    "        pitch = snd.to_pitch(time_step=0.01, pitch_floor=75)\n",
    "        weak_pitch_values = pitch.selected_array['frequency']\n",
    "        pitch_frame_number = pitch.get_number_of_frames()\n",
    "\n",
    "        mid_wav_file = f\"{mid_dir}/{spk_fn}/{wav_fn}_{spk_fn}_generated_e2e.wav\"\n",
    "        snd = parselmouth.Sound(mid_wav_file)\n",
    "        pitch = snd.to_pitch(time_step=0.01, pitch_floor=75)\n",
    "        mid_pitch_values = pitch.selected_array['frequency']\n",
    "        pitch_frame_number = pitch.get_number_of_frames()\n",
    "\n",
    "        high_wav_file = f\"{high_dir}/{spk_fn}/{wav_fn}_{spk_fn}_generated_e2e.wav\"\n",
    "        snd = parselmouth.Sound(high_wav_file)\n",
    "        pitch = snd.to_pitch(time_step=0.01, pitch_floor=75)\n",
    "        high_pitch_values = pitch.selected_array['frequency']\n",
    "        pitch_frame_number = pitch.get_number_of_frames()\n",
    "\n",
    "        ax.plot(weak_pitch_values, 'b-', label=\"low\")\n",
    "        ax.plot(mid_pitch_values, 'y-', label=\" moderate\")\n",
    "        ax.plot(high_pitch_values, 'r-', label=\"high\")\n",
    "        ax.legend(loc=\"upper center\",bbox_to_anchor=(0.5, 1.08), ncol=10, prop={\"size\":14}, frameon=False)\n",
    "        ax.set_xlabel('Frame',fontsize = 15)\n",
    "        ax.set_ylabel('Frequency(Hz)', fontsize = 15)\n",
    "        ax.spines['top'].set_visible(False)\n",
    "        ax.spines['right'].set_visible(False)\n",
    "        \n",
    "fig.set_facecolor('w')\n",
    "# plt.tight_layout()\n",
    "plt.show()\n"
   ]
  },
  {
   "cell_type": "code",
   "execution_count": null,
   "metadata": {},
   "outputs": [],
   "source": [
    "plt.savefig('/mnt/gyzhang/emotion_intensity.png', bbox_inches='tight')\n",
    "plt.close(fig)    # close the figure window\n"
   ]
  },
  {
   "cell_type": "code",
   "execution_count": null,
   "metadata": {},
   "outputs": [],
   "source": [
    "for row_id, (spk_fn, wav_fn) in enumerate(emo_info_list):\n",
    "    print(f\"************************************{wav_fn}**********************************************\")\n",
    "    for fidx, (weak_dir, mid_dir, high_dir) in enumerate([(weak_dir1, mid_dir1, high_dir1), (weak_dir2, mid_dir2, high_dir2)]):\n",
    "        if fidx == 0 and \"disgusted\" in wav_fn:\n",
    "            mid_dir = \"/mnt/gyzhang/projects/fastspeech2-master/checkpoints/mix2_gvq_spkadv_105_pspk/test_pt_s2t_mix2_generated_210000_0.4-0.4-0.4-0.4-0.4-0.4-0.4-0.4_emoinfer/wavs\"\n",
    "            \n",
    "        weak_wav_file = f\"{weak_dir}/{spk_fn}/{wav_fn}_{spk_fn}_generated_e2e.wav\"\n",
    "        print(weak_wav_file)\n",
    "        ipd.display(ipd.Audio(weak_wav_file))\n",
    "        \n",
    "        mid_wav_file = f\"{mid_dir}/{spk_fn}/{wav_fn}_{spk_fn}_generated_e2e.wav\"\n",
    "        print(mid_wav_file)\n",
    "        \n",
    "        ipd.display(ipd.Audio(mid_wav_file))\n",
    "\n",
    "        high_wav_file = f\"{high_dir}/{spk_fn}/{wav_fn}_{spk_fn}_generated_e2e.wav\"\n",
    "        print(high_wav_file)\n",
    "        ipd.display(ipd.Audio(high_wav_file))\n",
    "\n",
    "        print(f\"-------------------------------------{fidx}-----------------------------------------------\")"
   ]
  },
  {
   "cell_type": "code",
   "execution_count": null,
   "metadata": {},
   "outputs": [],
   "source": []
  }
 ],
 "metadata": {
  "kernelspec": {
   "display_name": "aligner",
   "language": "python",
   "name": "aligner"
  },
  "language_info": {
   "codemirror_mode": {
    "name": "ipython",
    "version": 3
   },
   "file_extension": ".py",
   "mimetype": "text/x-python",
   "name": "python",
   "nbconvert_exporter": "python",
   "pygments_lexer": "ipython3",
   "version": "3.8.10"
  }
 },
 "nbformat": 4,
 "nbformat_minor": 4
}
